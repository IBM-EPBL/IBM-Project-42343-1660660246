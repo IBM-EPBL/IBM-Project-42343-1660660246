{
 "cells": [
  {
   "cell_type": "markdown",
   "id": "46e29def",
   "metadata": {},
   "source": [
    "### Test with saved model"
   ]
  },
  {
   "cell_type": "code",
   "execution_count": 17,
   "id": "471aa46e",
   "metadata": {},
   "outputs": [],
   "source": [
    "from tensorflow.keras.models import load_model\n",
    "model=load_model('models/mnistCNN.h5')\n",
    "from PIL import Image\n",
    "import numpy as np"
   ]
  },
  {
   "cell_type": "code",
   "execution_count": 18,
   "id": "0a63b00d",
   "metadata": {},
   "outputs": [
    {
     "name": "stdout",
     "output_type": "stream",
     "text": [
      "1/1 [==============================] - 0s 232ms/step\n",
      "[[8.1153238e-01 2.1835136e-09 6.9651964e-05 2.9976712e-07 2.1848668e-06\n",
      "  3.4439205e-09 1.7076885e-02 9.1349586e-09 1.6855229e-01 2.7663738e-03]]\n",
      "1/1 [==============================] - 0s 80ms/step\n",
      "[[1.8479580e-02 5.1357341e-01 2.0362861e-06 3.6602670e-01 2.1116494e-03\n",
      "  3.8233586e-03 1.1601667e-04 3.8941354e-02 3.0088690e-05 5.6895770e-02]]\n",
      "1/1 [==============================] - 0s 80ms/step\n",
      "[[3.8507018e-08 8.5586965e-01 1.3028824e-01 5.2197800e-05 1.0403453e-05\n",
      "  1.2680152e-06 6.9255248e-07 3.3754470e-09 1.3764440e-02 1.3111523e-05]]\n",
      "1/1 [==============================] - 0s 84ms/step\n",
      "[[2.7310357e-08 1.5723308e-11 2.1380403e-03 1.9134131e-03 1.2983286e-07\n",
      "  7.0371637e-03 9.8544759e-01 7.1806130e-11 3.4636548e-03 4.3667761e-10]]\n",
      "1/1 [==============================] - 0s 91ms/step\n",
      "[[1.10024156e-09 1.11140864e-07 5.70063785e-05 3.69510533e-09\n",
      "  1.67153850e-02 1.38278294e-03 9.81834590e-01 4.91446994e-10\n",
      "  4.53123630e-06 5.60547232e-06]]\n"
     ]
    }
   ],
   "source": [
    "for index in range(5):\n",
    "    img=Image.open('data/' + str(index) + '.png').convert(\"L\") #convert image to monochrome\n",
    "    img=img.resize((28,28)) #resizing\n",
    "    im2arr=np.array(img)\n",
    "    im2arr=im2arr.reshape(1,28,28,1)\n",
    "    \n",
    "    #predicting the test set results\n",
    "    y_pred=model.predict(im2arr)\n",
    "    print(y_pred)"
   ]
  }
 ],
 "metadata": {
  "kernelspec": {
   "display_name": "Python 3 (ipykernel)",
   "language": "python",
   "name": "python3"
  },
  "language_info": {
   "codemirror_mode": {
    "name": "ipython",
    "version": 3
   },
   "file_extension": ".py",
   "mimetype": "text/x-python",
   "name": "python",
   "nbconvert_exporter": "python",
   "pygments_lexer": "ipython3",
   "version": "3.9.12"
  }
 },
 "nbformat": 4,
 "nbformat_minor": 5
}
