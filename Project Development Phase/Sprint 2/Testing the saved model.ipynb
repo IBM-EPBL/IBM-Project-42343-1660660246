{
 "cells": [
  {
   "cell_type": "code",
   "execution_count": 1,
   "id": "0c734067",
   "metadata": {},
   "outputs": [],
   "source": [
    "from tensorflow.keras.models import load_model"
   ]
  },
  {
   "cell_type": "code",
   "execution_count": 3,
   "id": "e6badf11",
   "metadata": {},
   "outputs": [],
   "source": [
    "model=load_model('models/mnistCNN1.h5')"
   ]
  },
  {
   "cell_type": "code",
   "execution_count": 4,
   "id": "39c2c4d8",
   "metadata": {},
   "outputs": [],
   "source": [
    "from PIL import Image"
   ]
  },
  {
   "cell_type": "code",
   "execution_count": 5,
   "id": "42378ba1",
   "metadata": {},
   "outputs": [],
   "source": [
    "import numpy as np"
   ]
  },
  {
   "cell_type": "code",
   "execution_count": 9,
   "id": "c626d8cf",
   "metadata": {},
   "outputs": [
    {
     "name": "stdout",
     "output_type": "stream",
     "text": [
      "1/1 [==============================] - 0s 51ms/step\n",
      "7\n",
      "1/1 [==============================] - 0s 74ms/step\n",
      "3\n",
      "1/1 [==============================] - 0s 60ms/step\n",
      "5\n",
      "1/1 [==============================] - 0s 51ms/step\n",
      "0\n",
      "1/1 [==============================] - 0s 51ms/step\n",
      "1\n",
      "1/1 [==============================] - 0s 94ms/step\n",
      "8\n"
     ]
    }
   ],
   "source": [
    "for index in range(6):\n",
    "    img=Image.open('data/' + str(index) + '.png').convert(\"L\")\n",
    "    img=img.resize((28,28))\n",
    "    im2arr=np.array(img)\n",
    "    im2arr=im2arr.reshape(1,28,28,1)\n",
    "    y_pred=model.predict(im2arr)\n",
    "    print(np.argmax(y_pred))"
   ]
  }
 ],
 "metadata": {
  "kernelspec": {
   "display_name": "Python 3 (ipykernel)",
   "language": "python",
   "name": "python3"
  },
  "language_info": {
   "codemirror_mode": {
    "name": "ipython",
    "version": 3
   },
   "file_extension": ".py",
   "mimetype": "text/x-python",
   "name": "python",
   "nbconvert_exporter": "python",
   "pygments_lexer": "ipython3",
   "version": "3.9.12"
  }
 },
 "nbformat": 4,
 "nbformat_minor": 5
}
