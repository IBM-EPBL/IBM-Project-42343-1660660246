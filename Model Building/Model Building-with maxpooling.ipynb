{
 "cells": [
  {
   "cell_type": "markdown",
   "id": "adcf7646",
   "metadata": {},
   "source": [
    "# Sprint 2\n",
    "\n",
    "## Team ID: PNT2022TMID43387\n",
    "\n",
    "###  Importing the required libraries"
   ]
  },
  {
   "cell_type": "code",
   "execution_count": 1,
   "id": "cfd173cb",
   "metadata": {},
   "outputs": [],
   "source": [
    "import numpy as np\n",
    "import tensorflow #both ML and DL for computation\n",
    "from tensorflow.keras.datasets import mnist #mnist dataset\n",
    "from tensorflow.keras.models import Sequential #plain stack of layers\n",
    "from tensorflow.keras import layers #A Layer consists of a tensor- in tensor-out computat ion funct ion\n",
    "from tensorflow.keras.layers import Dense, Flatten #dense and flatten layers\n",
    "from tensorflow.keras.layers import Conv2D #onvoLutiona l Layer\n",
    "from tensorflow.keras.layers import MaxPooling2D \n",
    "from tensorflow.keras.layers import BatchNormalization\n",
    "from tensorflow.keras.layers import Dropout\n",
    "from keras.optimizers import Adam #optimizer\n",
    "from keras. utils import np_utils #used for one-hot encoding\n",
    "import matplotlib.pyplot as plt   #used for data visualization"
   ]
  },
  {
   "cell_type": "markdown",
   "id": "beb53b2f",
   "metadata": {},
   "source": [
    "### Data preprocessing - Sprint 1"
   ]
  },
  {
   "cell_type": "code",
   "execution_count": 2,
   "id": "a57e9649",
   "metadata": {},
   "outputs": [],
   "source": [
    "(x_train,y_train),(x_test,y_test)=mnist.load_data()\n",
    "\n",
    "#CNN expected format: (batch,height,width,channel)\n",
    "x_train=x_train.reshape(60000,28,28,1).astype('float32')\n",
    "x_test=x_test.reshape(10000,28,28,1).astype('float32')\n",
    "no_of_classes=10\n",
    "y_train=np_utils.to_categorical(y_train,no_of_classes) #converts output to binary format\n",
    "y_test=np_utils.to_categorical(y_test,no_of_classes)"
   ]
  },
  {
   "cell_type": "markdown",
   "id": "83cddd7a",
   "metadata": {},
   "source": [
    "### Add CNN Layers"
   ]
  },
  {
   "cell_type": "code",
   "execution_count": 3,
   "id": "37583249",
   "metadata": {},
   "outputs": [],
   "source": [
    "#create model\n",
    "model = Sequential()\n",
    "model.add(Conv2D(32, kernel_size = 3, activation='relu', input_shape=(28, 28, 1)))\n",
    "model.add(MaxPooling2D())\n",
    "model.add(Conv2D(32, kernel_size = 3, activation='relu'))\n",
    "model.add(BatchNormalization())\n",
    "model.add(Conv2D(32, kernel_size = 5, strides=2, padding='same', activation='relu'))\n",
    "model.add(BatchNormalization())\n",
    "model.add(Dropout(0.4))\n",
    "model.add(Conv2D(64, kernel_size = 3, activation='relu'))\n",
    "model.add(BatchNormalization())\n",
    "model.add(Conv2D(64, kernel_size = 3, activation='relu'))\n",
    "model.add(BatchNormalization())\n",
    "model.add(Conv2D(64, kernel_size = 5, strides=2, padding='same', activation='relu'))\n",
    "model.add(BatchNormalization())\n",
    "model.add(Dropout(0.4))\n",
    "model.add(Flatten())\n",
    "model.add(Dropout(0.4))\n",
    "model.add(Dense(10, activation='softmax'))"
   ]
  },
  {
   "cell_type": "markdown",
   "id": "81e259ec",
   "metadata": {},
   "source": [
    "### Compiling the model"
   ]
  },
  {
   "cell_type": "code",
   "execution_count": 4,
   "id": "b90717fe",
   "metadata": {},
   "outputs": [],
   "source": [
    "#Compile model\n",
    "model.compile(loss= 'categorical_crossentropy', optimizer=\"Adam\", metrics=['accuracy'])"
   ]
  },
  {
   "cell_type": "markdown",
   "id": "0d99396d",
   "metadata": {},
   "source": [
    "Compilation requires 3 arguments: an optimizer, a loss function, and a list of metrics.\n",
    "In our project, we have 2 classes in the output, so the loss is binary_crossentropy.\n",
    "If you have more than two classes in output put “loss = categorical_cross entropy”. "
   ]
  },
  {
   "cell_type": "code",
   "execution_count": 5,
   "id": "bce4ba8b",
   "metadata": {},
   "outputs": [],
   "source": [
    "x_train = np.asarray(x_train)\n",
    "y_train = np.asarray(y_train)"
   ]
  },
  {
   "cell_type": "markdown",
   "id": "0a0c3af3",
   "metadata": {},
   "source": [
    "### Train the model"
   ]
  },
  {
   "cell_type": "code",
   "execution_count": 6,
   "id": "5721e18d",
   "metadata": {},
   "outputs": [
    {
     "name": "stdout",
     "output_type": "stream",
     "text": [
      "Epoch 1/10\n",
      "1875/1875 [==============================] - 78s 39ms/step - loss: 0.2815 - accuracy: 0.9210 - val_loss: 0.0508 - val_accuracy: 0.9841\n",
      "Epoch 2/10\n",
      "1875/1875 [==============================] - 70s 37ms/step - loss: 0.1037 - accuracy: 0.9722 - val_loss: 0.0305 - val_accuracy: 0.9899\n",
      "Epoch 3/10\n",
      "1875/1875 [==============================] - 69s 37ms/step - loss: 0.0818 - accuracy: 0.9789 - val_loss: 0.0329 - val_accuracy: 0.9903\n",
      "Epoch 4/10\n",
      "1875/1875 [==============================] - 69s 37ms/step - loss: 0.0669 - accuracy: 0.9820 - val_loss: 0.0495 - val_accuracy: 0.9866\n",
      "Epoch 5/10\n",
      "1875/1875 [==============================] - 69s 37ms/step - loss: 0.0583 - accuracy: 0.9841 - val_loss: 0.0249 - val_accuracy: 0.9931\n",
      "Epoch 6/10\n",
      "1875/1875 [==============================] - 69s 37ms/step - loss: 0.0500 - accuracy: 0.9869 - val_loss: 0.0251 - val_accuracy: 0.9930\n",
      "Epoch 7/10\n",
      "1875/1875 [==============================] - 71s 38ms/step - loss: 0.0436 - accuracy: 0.9886 - val_loss: 0.0296 - val_accuracy: 0.9922\n",
      "Epoch 8/10\n",
      "1875/1875 [==============================] - 73s 39ms/step - loss: 0.0413 - accuracy: 0.9890 - val_loss: 0.0241 - val_accuracy: 0.9926\n",
      "Epoch 9/10\n",
      "1875/1875 [==============================] - 73s 39ms/step - loss: 0.0393 - accuracy: 0.9896 - val_loss: 0.0240 - val_accuracy: 0.9930\n",
      "Epoch 10/10\n",
      "1875/1875 [==============================] - 73s 39ms/step - loss: 0.0350 - accuracy: 0.9905 - val_loss: 0.0192 - val_accuracy: 0.9945\n"
     ]
    },
    {
     "data": {
      "text/plain": [
       "<keras.callbacks.History at 0x2bde8e14fa0>"
      ]
     },
     "execution_count": 6,
     "metadata": {},
     "output_type": "execute_result"
    }
   ],
   "source": [
    "#fit the model\n",
    "model.fit(x_train, y_train, validation_data=(x_test, y_test), epochs=10, batch_size=32)"
   ]
  },
  {
   "cell_type": "markdown",
   "id": "a194212a",
   "metadata": {},
   "source": [
    "Arguments:\n",
    "steps_per_epoch : it specifies the total number of steps taken from the generator as soon as one epoch is finished and the next epoch has started. We can calculate the value of steps_per_epoch as the total number of samples in your dataset divided by the batch size.\n",
    "\n",
    "Epochs: an integer and number of epochs we want to train our model for.\n",
    "\n",
    "Validation_data :  \n",
    "an inputs and targets list\n",
    "a generator\n",
    "inputs, targets, and sample_weights list which can be used to evaluate the loss and metrics for any model after any epoch has ended.\n",
    "\n",
    "\n",
    "validation_steps: only if the validation_data is a generator then only this argument can be used. It specifies the total number of steps taken from the generator before it is stopped at every epoch and its value is calculated as the total number of validation data points in your dataset divided by the validation batch size."
   ]
  },
  {
   "cell_type": "markdown",
   "id": "1c8d7ad6",
   "metadata": {},
   "source": [
    "### Observing the metrics"
   ]
  },
  {
   "cell_type": "code",
   "execution_count": 7,
   "id": "d1e02db1",
   "metadata": {},
   "outputs": [
    {
     "name": "stdout",
     "output_type": "stream",
     "text": [
      "Metrics(Test loss & Test Accuracy) : \n",
      "[0.01923108845949173, 0.9944999814033508]\n"
     ]
    }
   ],
   "source": [
    "#final evaluation of the model\n",
    "metrics = model.evaluate(x_test, y_test, verbose=0)\n",
    "print(\"Metrics(Test loss & Test Accuracy) : \")\n",
    "print(metrics)"
   ]
  },
  {
   "cell_type": "markdown",
   "id": "85de749c",
   "metadata": {},
   "source": [
    "### Test the model"
   ]
  },
  {
   "cell_type": "code",
   "execution_count": 8,
   "id": "1fe2d08b",
   "metadata": {
    "scrolled": false
   },
   "outputs": [
    {
     "name": "stdout",
     "output_type": "stream",
     "text": [
      "1/1 [==============================] - 1s 527ms/step\n",
      "[[2.39270328e-08 1.90741822e-08 7.76825502e-08 7.92453818e-08\n",
      "  1.60290128e-07 8.87892284e-08 5.42882894e-08 9.99998927e-01\n",
      "  3.91918391e-08 4.17797168e-07]\n",
      " [3.15403099e-08 2.42661963e-06 9.99994159e-01 2.56797648e-07\n",
      "  2.86123537e-07 3.25858707e-07 5.51403957e-07 1.65956305e-06\n",
      "  1.44440563e-07 1.45353255e-07]\n",
      " [6.46729026e-09 9.99997735e-01 7.00532439e-07 1.33116259e-07\n",
      "  3.17947865e-07 1.37819669e-07 1.45124972e-07 6.46433705e-07\n",
      "  6.51577992e-08 2.81121935e-08]\n",
      " [9.99997020e-01 2.82281238e-08 2.18443947e-08 7.75419551e-07\n",
      "  1.87574969e-07 1.09308885e-07 8.58419298e-07 1.70689304e-07\n",
      "  1.90090361e-07 6.41211841e-07]]\n"
     ]
    }
   ],
   "source": [
    "prediction=model.predict(x_test[:4])\n",
    "print(prediction)"
   ]
  },
  {
   "cell_type": "code",
   "execution_count": 9,
   "id": "7daa61e1",
   "metadata": {},
   "outputs": [
    {
     "name": "stdout",
     "output_type": "stream",
     "text": [
      "[7 2 1 0]\n",
      "[[0. 0. 0. 0. 0. 0. 0. 1. 0. 0.]\n",
      " [0. 0. 1. 0. 0. 0. 0. 0. 0. 0.]\n",
      " [0. 1. 0. 0. 0. 0. 0. 0. 0. 0.]\n",
      " [1. 0. 0. 0. 0. 0. 0. 0. 0. 0.]]\n"
     ]
    }
   ],
   "source": [
    "print(np.argmax(prediction,axis=1)) #printing labels from first 4 images\n",
    "print(y_test[:4]) #printing the actual labels"
   ]
  },
  {
   "cell_type": "markdown",
   "id": "9983d615",
   "metadata": {},
   "source": [
    "As we already predicted the input from the x_test. According to that by using argmax function here we are printing the labels with high prediction values "
   ]
  },
  {
   "cell_type": "markdown",
   "id": "9b5dcdb8",
   "metadata": {},
   "source": [
    "### Saving the model"
   ]
  },
  {
   "cell_type": "code",
   "execution_count": 10,
   "id": "406bdb6f",
   "metadata": {},
   "outputs": [],
   "source": [
    "#save the model\n",
    "model.save('models/mnistCNN1.h5')"
   ]
  },
  {
   "cell_type": "markdown",
   "id": "0beff511",
   "metadata": {},
   "source": [
    "The model is saved with .h5 extension as follows:\n",
    "An H5 file is a data file saved in the Hierarchical Data Format (HDF). It contains multidimensional arrays of scientific data."
   ]
  }
 ],
 "metadata": {
  "kernelspec": {
   "display_name": "Python 3 (ipykernel)",
   "language": "python",
   "name": "python3"
  },
  "language_info": {
   "codemirror_mode": {
    "name": "ipython",
    "version": 3
   },
   "file_extension": ".py",
   "mimetype": "text/x-python",
   "name": "python",
   "nbconvert_exporter": "python",
   "pygments_lexer": "ipython3",
   "version": "3.9.12"
  }
 },
 "nbformat": 4,
 "nbformat_minor": 5
}
